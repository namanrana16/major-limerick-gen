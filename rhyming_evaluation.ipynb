{
 "cells": [
  {
   "cell_type": "code",
   "execution_count": 1,
   "metadata": {},
   "outputs": [],
   "source": [
    "# Author: LickMyRicks\n",
    "# Date: 29th March 2023"
   ]
  },
  {
   "cell_type": "markdown",
   "metadata": {},
   "source": [
    "# Evaluation of Rhymes produced by YouShen poetry model\n",
    "\n",
    "## Plan of Attack\n",
    "We need to break each word down into phonemes (graphemes).\n",
    "Then, we will evaluate how similar the 2 words are by rhyme. (This is quite complex).\n",
    "\n",
    "## Rhyme evaluation\n",
    "For any 2 lines of a poem, we consider the last word in each line to score their rhyme similarity.\n",
    "We can classify two lines as rhyme vs not rhyme, as well as quantify how much they rhyme with each other. (more on this needs to be thought through).\n",
    "\n",
    "Consider the following poem line pairs:  \n",
    "\n",
    "*The way he cleaned the bowl was thorough*  \n",
    "*And then he came up to ask for more*\n",
    "\n",
    "*In the morning Cinderella would fetch water,  \n",
    "At night she was the dazzling queen of the gala*\n",
    "\n",
    "*Everytime the sun rises to shine  \n",
    "I am reminded of you, beautiful love of mine*\n",
    "\n",
    "*My brother never trusted santa claus  \n",
    "So his name always fostered banter wars*\n",
    "\n",
    "From the pairs above, we can see that there is variable length of phonemes that consitute a valid rhyme. These can range from one phoneme in for a single word to many phonemes in one word...and even many phonemes in phrases.\n",
    "\n",
    "Key question: What's the best mathematical way of determining that both words rhyme?\n",
    "\n",
    "\n",
    "## Identifying phonemes\n",
    "Phonemes can be identified from pronunciation dictionary mappings or prediction models.\n",
    "Two promising packages with rich datasets that could prove useful for this projects are\n",
    "1. CMU pronouncing dictionary (potentially faster since it's just a dictionary)\n",
    "2. Big Phoney (Has preprocessing capabilities. Could be slower since it relies on a predictive model for words not existent in a dicitonary)\n",
    "Other packages can be found here [on github](https://github.com/topics/phonetics)\n",
    "\n",
    "To get quickly off the ground, we will use BigPhoney"
   ]
  },
  {
   "cell_type": "code",
   "execution_count": 1,
   "metadata": {},
   "outputs": [],
   "source": [
    "# uncomment to download required package. easier and faster this way\n",
    "!pip install pronouncing -q"
   ]
  },
  {
   "cell_type": "code",
   "execution_count": 2,
   "metadata": {},
   "outputs": [],
   "source": [
    "# imports\n",
    "import re\n",
    "from pathlib import Path\n",
    "from typing import List, Union\n",
    "\n",
    "import numpy as np\n",
    "import pronouncing"
   ]
  },
  {
   "cell_type": "code",
   "execution_count": 4,
   "metadata": {},
   "outputs": [],
   "source": [
    "# drop big phoney..for now. \n",
    "# Package has internal dependency/import issues or works with a particular python version \n",
    "# Package has some good concepts like predicting phonemes for words not found in CMU's pronouncing dictionary. \n",
    "# TODO: revisit\n",
    "# !git clone https://github.com/repp/big-phoney.git big_phoney -q \n",
    "# !cd big_phoney && python setup.py install\n",
    "# !pip install keras\n",
    "# import keras\n",
    "# from big_phoney.big_phoney import BigPhoney\n",
    "# phoney = BigPhoney()"
   ]
  },
  {
   "cell_type": "markdown",
   "metadata": {},
   "source": [
    "### Pseudocode for scoring rhymes\n",
    "for each poem:\n",
    "    break down into verses\n",
    "    for each verse, break down into lines\n",
    "    \n",
    "represent each word in every line as a set of phonemes\n",
    "reverse the phoneme order for each word\n",
    "\n",
    "Scoring rhymes in verses (discrete approach)  \n",
    "for each pair of phonemes in a pair of lines to compare:  \n",
    "-    get the max number (n_max) of syllables for all reversed order phonemes  \n",
    "-    trim each phoneme set to the first n_max phonemes  \n",
    "-    create an empty list of rhyming scores all possible phoneme pairs  \n",
    "-    for each possible phoneme set A construction:  \n",
    "        1. for each possible phoneme set B construction:  \n",
    "        2. compare each corresponding phoneme. If they match, assign a one, else 0.  \n",
    "        3. choose the max of all possible scores as the rhyme score  \n",
    "    \n",
    "\n"
   ]
  },
  {
   "cell_type": "markdown",
   "metadata": {},
   "source": [
    "### Real deal"
   ]
  },
  {
   "cell_type": "code",
   "execution_count": 3,
   "metadata": {},
   "outputs": [],
   "source": [
    "class Limerick:\n",
    "    \n",
    "    def __init__(self, lines: str, rhyme_patterns: List, max_length:int=None):\n",
    "        self.verse_lines = lines\n",
    "        if max_length:\n",
    "            self.verse_lines = self.verse_lines[0:max_length]\n",
    "        self.last_words = [line.split()[-1] for line in self.verse_lines]\n",
    "        self.last_word_rhyming_part_pairs = {word:self.__get_rhyming_parts(word) for word in self.last_words}\n",
    "        self.rhyme_patterns = rhyme_patterns\n",
    " \n",
    "    def __get_phonemes(self, text:Union[str, List]):\n",
    "        \"\"\"returns all possible pronunciation of a word as phonemes\n",
    "        Language used: American English. Style: Arpabet\n",
    "        \"\"\"\n",
    "        if type(text) == str:\n",
    "            phonemes = pronouncing.phones_for_word(text)\n",
    "        else:\n",
    "            phonemes = [pronouncing.phones_for_word(word) for word in text]\n",
    "        return phonemes\n",
    "    \n",
    "    def __get_rhyming_parts(self, word:str):\n",
    "        phonemes = self.__get_phonemes(word)\n",
    "        rhyming_parts = [pronouncing.rhyming_part(phoneme) for phoneme in phonemes]\n",
    "        return rhyming_parts\n",
    "    \n",
    "    \n",
    "    def __get_valid_rhyme_patterns(self):\n",
    "        valid_patterns = [pattern for pattern in self.rhyme_patterns if \n",
    "            not any(i > len(self.verse_lines)-1 for i in pattern)\n",
    "        ]\n",
    "        return valid_patterns\n",
    "    \n",
    "    \n",
    "    def score(self, line_pair: List):\n",
    "        first_word = self.last_words[line_pair[0]]\n",
    "        second_word = self.last_words[line_pair[1]]\n",
    "        first_word_rhymes = self.__get_rhyming_parts(first_word) \n",
    "        second_word_rhymes = self.__get_rhyming_parts(second_word)\n",
    "        rhyme_score = 0\n",
    "        for first_word_rhyme in first_word_rhymes:\n",
    "            for second_word_rhyme in second_word_rhymes:\n",
    "                is_rhyming = first_word_rhyme == second_word_rhyme\n",
    "                if (is_rhyming):\n",
    "                    rhyme_score = 1\n",
    "                    status = \"successfully matched\"\n",
    "                else:\n",
    "                    status = \"could not match\"\n",
    "                # uncomment to debug\n",
    "                print(f\" {status} -> {first_word}({first_word_rhyme}) and {second_word}({second_word_rhyme})\")\n",
    "        return int(rhyme_score)\n",
    "    \n",
    "    \n",
    "    def score_edit_distance(self, line_pair: List):\n",
    "        first_word = self.last_words[line_pair[0]]\n",
    "        second_word = self.last_words[line_pair[1]]\n",
    "        first_word_rhymes = self.__get_rhyming_parts(first_word) \n",
    "        second_word_rhymes = self.__get_rhyming_parts(second_word)\n",
    "        rhyme_scores = []\n",
    "#         import pdb; pdb.set_trace()\n",
    "        for first_word_rhyme in first_word_rhymes:\n",
    "            for second_word_rhyme in second_word_rhymes:\n",
    "                distance = calculate_edit_distance(first_word_rhyme,second_word_rhyme)\n",
    "                rhyme_scores.append(distance)\n",
    "        # there's a possibility that rhyme_scores will be an empty list.\n",
    "        # this will be if no rhyming parts for a given set of words is found.\n",
    "        # in that case, return None\n",
    "        if len(rhyme_scores) > 0:\n",
    "            rhyme_score =  min(rhyme_scores)\n",
    "        else:\n",
    "            rhyme_score = None\n",
    "        return rhyme_score\n",
    "    \n",
    "        \n",
    "    def get_rhyme_score(self):\n",
    "        \"\"\"returns a rhyming score for the poem between 0 and 1.\n",
    "        \"\"\"\n",
    "        valid_patterns = self.__get_valid_rhyme_patterns()\n",
    "        scores = [self.score(pattern) for pattern in valid_patterns]\n",
    "        return sum(scores)/len(scores)\n",
    "\n",
    "    \n",
    "    def __repr__(self):\n",
    "        return repr(\"\\n\".join(self.verse_lines))"
   ]
  },
  {
   "cell_type": "code",
   "execution_count": 4,
   "metadata": {
    "scrolled": true
   },
   "outputs": [],
   "source": [
    "class SamplePoem:\n",
    "    def __init__(self, text:str,  rhyme_patterns: List, verse_length:int, blacklist:List=None,):\n",
    "        self.lines = [line for line in text.splitlines() if line]\n",
    "        self.verse_length = verse_length\n",
    "        self.rhyme_patterns = rhyme_patterns\n",
    "        intervals = list(range(0,len(self.lines),verse_length))\n",
    "        verse_lines_list = [self.lines[x:x+5] for x in intervals]\n",
    "        self.verses = [Limerick(lines=verse_lines, rhyme_patterns=self.rhyme_patterns, max_length=self.verse_length) \n",
    "                       for verse_lines in verse_lines_list]\n",
    "        \n",
    "    \n",
    "    def __get_item__(self, key):\n",
    "        return self.verses[key]\n",
    "\n",
    "\n",
    "    def get_rhyme_score(self):\n",
    "        if len(self.verses):\n",
    "            scores = [verse.get_rhyme_score() for verse in self.verses]\n",
    "            score = sum(scores)/len(scores)\n",
    "        else:\n",
    "            score = None\n",
    "        return score\n",
    "    \n",
    "    \n",
    "    def __repr__(self):\n",
    "        return repr(self.verses)"
   ]
  },
  {
   "cell_type": "code",
   "execution_count": 5,
   "metadata": {},
   "outputs": [],
   "source": [
    "def clean(text: str, blacklist:List):\n",
    "    for term in blacklist:\n",
    "        text = re.sub(term, \"\", text)\n",
    "    return text"
   ]
  },
  {
   "cell_type": "code",
   "execution_count": 6,
   "metadata": {},
   "outputs": [],
   "source": [
    "def read_poems(file_path: Path, blacklist):\n",
    "    \"\"\"reads a file containing poems and returns a list of limerick samples found in the file\n",
    "    \"\"\"\n",
    "    with open(file_path) as file:\n",
    "        text = file.read()\n",
    "    poem_samples = text.split(\"<|endoftext|>\")\n",
    "    poems = [clean(sample, blacklist) for sample in poem_samples if len(sample)>0]\n",
    "    return [poem for poem in poems if len(poem)>0]"
   ]
  },
  {
   "cell_type": "code",
   "execution_count": 7,
   "metadata": {},
   "outputs": [],
   "source": [
    "def test_scoring_limerick(sample_rhyme: Path):\n",
    "    \"\"\"Sanity check to test scoring of a single limerick\n",
    "    \"\"\"\n",
    "    with open(sample_rhyme) as rhyme_sample:\n",
    "        sample_corpus = rhyme_sample.read()\n",
    "    limerick_lines = [line for line in sample_corpus.splitlines() if line]\n",
    "    limerick = Limerick(lines=limerick_lines, rhyme_patterns=limerick_pattern, max_length=5)\n",
    "    print(\"Scoring limerick...\")\n",
    "    score = limerick.get_rhyme_score()\n",
    "    print(f\"Rhyme score is {score}\")\n",
    "    assert(type(score) == float )"
   ]
  },
  {
   "cell_type": "code",
   "execution_count": 8,
   "metadata": {},
   "outputs": [],
   "source": [
    "def score_poems(file_path: Path, last_word_pattern:str, blacklist:List ):\n",
    "    \"\"\"Reads limericks in generated samples and scores them between 0 and 1\n",
    "    \"\"\"\n",
    "    poems = [SamplePoem(text=poem_sample, rhyme_patterns=limerick_pattern, verse_length=5) \n",
    "             for poem_sample in read_poems(file_path, blacklist=blacklist) if len(poem_sample) >0]\n",
    "    poems = [poem for poem in poems if poem.lines]\n",
    "    poem_scores = [poem.get_rhyme_score() for poem in poems]\n",
    "    return poem_scores"
   ]
  },
  {
   "cell_type": "markdown",
   "metadata": {},
   "source": [
    "### Testing and sampling"
   ]
  },
  {
   "cell_type": "code",
   "execution_count": 9,
   "metadata": {},
   "outputs": [],
   "source": [
    "limerick_pattern = [\n",
    "    [0,1], [2,3], [0,4]\n",
    "]\n",
    "sample_gen = Path(\"samples/.tmp/samples-200\") #path to file containing sample GPT2 poems \n",
    "blacklist =[\n",
    "    \"=+.*=+\",\n",
    "    \"(<.endoftext)*.>\"\n",
    "]"
   ]
  },
  {
   "cell_type": "code",
   "execution_count": 10,
   "metadata": {},
   "outputs": [
    {
     "ename": "FileNotFoundError",
     "evalue": "[Errno 2] No such file or directory: 'samples/sample_rhyme.txt'",
     "output_type": "error",
     "traceback": [
      "\u001b[0;31m---------------------------------------------------------------------------\u001b[0m",
      "\u001b[0;31mFileNotFoundError\u001b[0m                         Traceback (most recent call last)",
      "Cell \u001b[0;32mIn[10], line 2\u001b[0m\n\u001b[1;32m      1\u001b[0m sample_rhyme \u001b[38;5;241m=\u001b[39m Path(\u001b[38;5;124m\"\u001b[39m\u001b[38;5;124msamples/sample_rhyme.txt\u001b[39m\u001b[38;5;124m\"\u001b[39m)\n\u001b[0;32m----> 2\u001b[0m \u001b[43mtest_scoring_limerick\u001b[49m\u001b[43m(\u001b[49m\u001b[43msample_rhyme\u001b[49m\u001b[43m)\u001b[49m\n",
      "Cell \u001b[0;32mIn[7], line 4\u001b[0m, in \u001b[0;36mtest_scoring_limerick\u001b[0;34m(sample_rhyme)\u001b[0m\n\u001b[1;32m      1\u001b[0m \u001b[38;5;28;01mdef\u001b[39;00m \u001b[38;5;21mtest_scoring_limerick\u001b[39m(sample_rhyme: Path):\n\u001b[1;32m      2\u001b[0m     \u001b[38;5;124;03m\"\"\"Sanity check to test scoring of a single limerick\u001b[39;00m\n\u001b[1;32m      3\u001b[0m \u001b[38;5;124;03m    \"\"\"\u001b[39;00m\n\u001b[0;32m----> 4\u001b[0m     \u001b[38;5;28;01mwith\u001b[39;00m \u001b[38;5;28;43mopen\u001b[39;49m\u001b[43m(\u001b[49m\u001b[43msample_rhyme\u001b[49m\u001b[43m)\u001b[49m \u001b[38;5;28;01mas\u001b[39;00m rhyme_sample:\n\u001b[1;32m      5\u001b[0m         sample_corpus \u001b[38;5;241m=\u001b[39m rhyme_sample\u001b[38;5;241m.\u001b[39mread()\n\u001b[1;32m      6\u001b[0m     limerick_lines \u001b[38;5;241m=\u001b[39m [line \u001b[38;5;28;01mfor\u001b[39;00m line \u001b[38;5;129;01min\u001b[39;00m sample_corpus\u001b[38;5;241m.\u001b[39msplitlines() \u001b[38;5;28;01mif\u001b[39;00m line]\n",
      "File \u001b[0;32m/Applications/miniconda3/envs/minor/lib/python3.9/site-packages/IPython/core/interactiveshell.py:282\u001b[0m, in \u001b[0;36m_modified_open\u001b[0;34m(file, *args, **kwargs)\u001b[0m\n\u001b[1;32m    275\u001b[0m \u001b[38;5;28;01mif\u001b[39;00m file \u001b[38;5;129;01min\u001b[39;00m {\u001b[38;5;241m0\u001b[39m, \u001b[38;5;241m1\u001b[39m, \u001b[38;5;241m2\u001b[39m}:\n\u001b[1;32m    276\u001b[0m     \u001b[38;5;28;01mraise\u001b[39;00m \u001b[38;5;167;01mValueError\u001b[39;00m(\n\u001b[1;32m    277\u001b[0m         \u001b[38;5;124mf\u001b[39m\u001b[38;5;124m\"\u001b[39m\u001b[38;5;124mIPython won\u001b[39m\u001b[38;5;124m'\u001b[39m\u001b[38;5;124mt let you open fd=\u001b[39m\u001b[38;5;132;01m{\u001b[39;00mfile\u001b[38;5;132;01m}\u001b[39;00m\u001b[38;5;124m by default \u001b[39m\u001b[38;5;124m\"\u001b[39m\n\u001b[1;32m    278\u001b[0m         \u001b[38;5;124m\"\u001b[39m\u001b[38;5;124mas it is likely to crash IPython. If you know what you are doing, \u001b[39m\u001b[38;5;124m\"\u001b[39m\n\u001b[1;32m    279\u001b[0m         \u001b[38;5;124m\"\u001b[39m\u001b[38;5;124myou can use builtins\u001b[39m\u001b[38;5;124m'\u001b[39m\u001b[38;5;124m open.\u001b[39m\u001b[38;5;124m\"\u001b[39m\n\u001b[1;32m    280\u001b[0m     )\n\u001b[0;32m--> 282\u001b[0m \u001b[38;5;28;01mreturn\u001b[39;00m \u001b[43mio_open\u001b[49m\u001b[43m(\u001b[49m\u001b[43mfile\u001b[49m\u001b[43m,\u001b[49m\u001b[43m \u001b[49m\u001b[38;5;241;43m*\u001b[39;49m\u001b[43margs\u001b[49m\u001b[43m,\u001b[49m\u001b[43m \u001b[49m\u001b[38;5;241;43m*\u001b[39;49m\u001b[38;5;241;43m*\u001b[39;49m\u001b[43mkwargs\u001b[49m\u001b[43m)\u001b[49m\n",
      "\u001b[0;31mFileNotFoundError\u001b[0m: [Errno 2] No such file or directory: 'samples/sample_rhyme.txt'"
     ]
    }
   ],
   "source": [
    "sample_rhyme = Path(\"samples/sample_rhyme.txt\")\n",
    "test_scoring_limerick(sample_rhyme)"
   ]
  },
  {
   "cell_type": "code",
   "execution_count": null,
   "metadata": {
    "scrolled": false
   },
   "outputs": [],
   "source": [
    "poem_scores = score_poems(file_path=sample_gen, last_word_pattern=limerick_pattern, blacklist=blacklist)\n",
    "print(f\"\\n\\nScores for detected limerick attemps -> {poem_scores}\")"
   ]
  },
  {
   "cell_type": "markdown",
   "metadata": {},
   "source": [
    "### Next steps\n",
    "1. Improve rhyming similarities. Shine does rhyme with time although their rhyming parts are not a 100% match. Give a smoothed score for rhymes so that checking for e.g. AA is not just 0 or 1 but any float within the range.\n",
    "2. Crack the code to identifying the rhyme parts of a word."
   ]
  },
  {
   "cell_type": "code",
   "execution_count": null,
   "metadata": {},
   "outputs": [],
   "source": [
    "def sigmoid(X):\n",
    "   return 1/(1+np.exp(-X))"
   ]
  },
  {
   "cell_type": "code",
   "execution_count": 17,
   "metadata": {},
   "outputs": [],
   "source": [
    "def calculate_edit_distance(phoneme_set_a: List[str], phoneme_set_b: List[str], levenshtein=True):\n",
    "    \"\"\"Calculates edit distance between 2 sets of phonemes\n",
    "    \n",
    "    Parameters\n",
    "    ----------\n",
    "    phoneme_set_a: list\n",
    "        word or rhyming part to be compared to. \n",
    "        This is represented as a string or list of phonemes representing a word or its rhyming part.\n",
    "    phoneme_set_a: list\n",
    "        word or rhyming part for which we want compute how different it is from phoneme_set_a\n",
    "        This is also represented as a string or a list of phonemes representing a word or its rhyming part.\n",
    "    levenshtein: bool, default = True\n",
    "        Boolean indicating whether the distance should be conputed as Levenshtein distance or not\n",
    "        \n",
    "    Examples\n",
    "    --------\n",
    "    wonder = [\"AH1\",\"N\",\"D\",\"ER0\"]\n",
    "    one = [\"AH1\",\"N\"]\n",
    "    \n",
    "    difference = calculate_edit_distance(wonder, one, levenshtein=False)\n",
    "    \n",
    "    This can be updated with a faster, dynamic program approach\n",
    "    \"\"\"\n",
    "#     aligned_phoneme_set_a = []\n",
    "    substitution_cost = 0\n",
    "    insertion_cost = 0\n",
    "    deletion_cost = 0\n",
    "    aligned_phoneme_set_b = list(phoneme_set_b)\n",
    "    \n",
    "    index_counter = 0\n",
    "    while index_counter < len(phoneme_set_b) - 1:\n",
    "#         if phoneme_set_a[index_counter] == aligned_phoneme_set_b[index_counter]:\n",
    "#             continue\n",
    "            # aligned_phoneme_set_b[index_counter] = phoneme_set_b[index_counter]\n",
    "        if index_counter > 0:\n",
    "            if phoneme_set_a[index_counter-1] == aligned_phoneme_set_b[index_counter]:\n",
    "                aligned_phoneme_set_b.insert(index_counter, None)\n",
    "        # else, skip. it requires a substitution\n",
    "        index_counter = index_counter + 1\n",
    "    \n",
    "    deletion_cost = abs(len(phoneme_set_a) - len(aligned_phoneme_set_b))\n",
    "    aligned_phoneme_set_b = aligned_phoneme_set_b[-len(phoneme_set_a):]\n",
    "    \n",
    "#     index_counter = len(aligned_phoneme_set_b) - 1\n",
    "    for i in range(len(aligned_phoneme_set_b)):\n",
    "        if aligned_phoneme_set_b[i] == None:\n",
    "            insertion_cost = insertion_cost + 1\n",
    "        elif phoneme_set_a[i] != aligned_phoneme_set_b[i]:\n",
    "            substitution_cost = substitution_cost + 1\n",
    "        # else, continue\n",
    "    \n",
    "    # compute total costs\n",
    "    if levenshtein:\n",
    "        substitution_cost = substitution_cost * 2\n",
    "        \n",
    "    print(f\"aligned_phoneme_set_b: {aligned_phoneme_set_b}\")\n",
    "        \n",
    "    print(f\"deletion cost: {deletion_cost}\")\n",
    "    print(f\"insertion cost: {insertion_cost}\")\n",
    "    print(f\"substitution cost: {substitution_cost}\")\n",
    "    \n",
    "    total_cost = deletion_cost + insertion_cost + substitution_cost\n",
    "    \n",
    "    return total_cost"
   ]
  },
  {
   "cell_type": "code",
   "execution_count": null,
   "metadata": {
    "scrolled": false
   },
   "outputs": [],
   "source": [
    "wonder = [\"AH1\",\"N\",\"D\",\"ER0\"]\n",
    "one = [\"AH1\",\"N\"]\n",
    "\n",
    "difference = calculate_edit_distance(wonder, one, levenshtein=True)\n",
    "difference"
   ]
  },
  {
   "cell_type": "code",
   "execution_count": null,
   "metadata": {
    "scrolled": false
   },
   "outputs": [],
   "source": [
    "difference = calculate_edit_distance(\"execution\", \"intention\")\n",
    "difference"
   ]
  },
  {
   "cell_type": "code",
   "execution_count": null,
   "metadata": {},
   "outputs": [],
   "source": [
    "difference = calculate_edit_distance(\"ry\", \"hey\")\n",
    "difference"
   ]
  },
  {
   "cell_type": "code",
   "execution_count": null,
   "metadata": {},
   "outputs": [],
   "source": [
    "temp = \"execution\"\n",
    "temp2 = \"inte*ntion\"\n",
    "temp2[-len(temp):]\n",
    "abs(len(temp) - len(temp2))"
   ]
  },
  {
   "cell_type": "code",
   "execution_count": null,
   "metadata": {},
   "outputs": [],
   "source": [
    "not None"
   ]
  }
 ],
 "metadata": {
  "kernelspec": {
   "display_name": "Python 3 (ipykernel)",
   "language": "python",
   "name": "python3"
  },
  "language_info": {
   "codemirror_mode": {
    "name": "ipython",
    "version": 3
   },
   "file_extension": ".py",
   "mimetype": "text/x-python",
   "name": "python",
   "nbconvert_exporter": "python",
   "pygments_lexer": "ipython3",
   "version": "3.9.16"
  }
 },
 "nbformat": 4,
 "nbformat_minor": 4
}
